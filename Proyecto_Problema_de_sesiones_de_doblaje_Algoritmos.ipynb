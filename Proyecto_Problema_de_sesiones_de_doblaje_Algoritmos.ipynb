{
  "nbformat": 4,
  "nbformat_minor": 0,
  "metadata": {
    "colab": {
      "provenance": [],
      "include_colab_link": true
    },
    "kernelspec": {
      "name": "python3",
      "display_name": "Python 3"
    }
  },
  "cells": [
    {
      "cell_type": "markdown",
      "metadata": {
        "id": "view-in-github",
        "colab_type": "text"
      },
      "source": [
        "<a href=\"https://colab.research.google.com/github/erasmomendez/03MIARAlgoritmos/blob/main/Proyecto_Problema_de_sesiones_de_doblaje_Algoritmos.ipynb\" target=\"_parent\"><img src=\"https://colab.research.google.com/assets/colab-badge.svg\" alt=\"Open In Colab\"/></a>"
      ]
    },
    {
      "cell_type": "markdown",
      "metadata": {
        "id": "hVbXYX-RfPWh"
      },
      "source": [
        "# Algoritmos de optimización - Seminario<br>\n",
        "Nombre y Apellidos: Erasmo Oscar Mendez Chavez  <br>\n",
        "Url: <br>\n",
        "Problema:\n",
        "> 1. Sesiones de doblaje <br>\n",
        "\n",
        "\n",
        "Descripción del problema: Organizar sesiones de doblaje\n",
        "\n",
        "Proporciona el algoritmo basado en métodos heurísticos que soluciona el siguiente problema: Se precisa coordinar el doblaje de una película. Los actores del doblaje deben coincidir en las tomas en las que sus personajes aparecen juntos en las diferentes tomas. Los actores de doblaje cobran todos la misma cantidad por cada día que deben desplazarse hasta el estudio de grabación independientemente del número de tomas que se graben. No es posible grabar más de 6 tomas por día. El objetivo es planificar las sesiones por día de manera que el gasto por los servicios de los actores de doblaje sea el menor posible. Los datos son:\n",
        "Número de actores: 10\n",
        "Número de tomas : 30\n",
        "Actores/Tomas : https://bit.ly/36D8Iu.\n",
        "\n",
        "\n",
        "\n",
        "(*) La respuesta es obligatoria\n",
        "\n",
        "\n",
        "\n",
        "\n",
        "\n"
      ]
    },
    {
      "cell_type": "markdown",
      "metadata": {
        "id": "3_-exlrTgLd-"
      },
      "source": [
        "(*)¿Cuantas posibilidades hay sin tener en cuenta las restricciones?<br>\n",
        "\n",
        "\n",
        "\n",
        "¿Cuantas posibilidades hay teniendo en cuenta todas las restricciones.\n",
        "\n",
        "\n"
      ]
    },
    {
      "cell_type": "markdown",
      "metadata": {
        "id": "WfCUqJyKhPcw"
      },
      "source": [
        "Respuesta"
      ]
    },
    {
      "cell_type": "code",
      "metadata": {
        "id": "iq6Fe32MgpDX"
      },
      "source": [
        "# a) Para calcular la cantidad de posibilidades sin tener en cuenta las restricciones consideramos que:\n",
        "#    Cada toma mantiene sus actores que estaban predefinidos en la tabla inicial de tomas.\n",
        "#    A partir de la tabla de 30 tomas obtenemos todas las posibles ordenaciones sin restricciones de este conjunto de 30 tomas.\n",
        "#    Por tanto la cantidad de posibilidades sin restricciones es: n!\n",
        "#    El resultado para n = 30 es: 30! = 2,6525285981219105863630848e+32\n",
        "\n",
        "# b) Para calcular la cantidad de posibilidades teniendo en cuenta las restricciones consideramos que:\n",
        "#    Es una combinación de 30 tomas que pueden ser escogidas de 6 tomas en 6 tomas (tomas por día),\n",
        "#    Donde las posibles muestras sin orden de las 6 tomas distintas que se pueden extraer del totas de 30 tomas.\n",
        "#    Por tanto la cantidad de posibilidades con restricciones se calcula con la fórmula: n! / (r!*(n-r)!)\n",
        "#    Para la pregunta n = 30 y r = 6.  Aplicando la formula: 30!/(6!*(30-6)!)\n",
        "#    El resultado es: 593,775 posibilidades\n"
      ],
      "execution_count": null,
      "outputs": []
    },
    {
      "cell_type": "markdown",
      "source": [],
      "metadata": {
        "id": "yfzCYQK3L87-"
      }
    },
    {
      "cell_type": "markdown",
      "metadata": {
        "id": "dzynfVJahHoY"
      },
      "source": [
        "Modelo para el espacio de soluciones<br>\n",
        "(*) ¿Cual es la estructura de datos que mejor se adapta al problema? Argumentalo.(Es posible que hayas elegido una al principio y veas la necesidad de cambiar, arguentalo)\n"
      ]
    },
    {
      "cell_type": "markdown",
      "metadata": {
        "id": "xFIJrOwKi2Ti"
      },
      "source": [
        "Respuesta"
      ]
    },
    {
      "cell_type": "code",
      "metadata": {
        "id": "38c-7-ejhJmA"
      },
      "source": [
        "# La estructura de datos que finalmente utilicé fue una matriz de enteros de filas de tomas(30) x columnas de actores(10).\n",
        "# Inicialmente, intenté trabajar con un dataframe pero se complico la programación en el sentido que\n",
        "# para los diversas asignaciones y cálculos que deseaba realizar en simultaneo, me encontraba con conflictos irresolubles entre strings y enteros;\n",
        "# además para resolver estos problemas tenñia que convertir dataframes a vectores y arreglos (ida y vuelta) por lo que descarte el uso de dataframe.\n",
        "# Para este tipo de problema el uso de vectores y array facilita las asignaciones, cálculos y sumatorias.\n"
      ],
      "execution_count": null,
      "outputs": []
    },
    {
      "cell_type": "markdown",
      "metadata": {
        "id": "7Z9U2W7bi-XS"
      },
      "source": [
        "Según el modelo para el espacio de soluciones<br>\n",
        "(*)¿Cual es la función objetivo?\n",
        "\n",
        "(*)¿Es un problema de maximización o minimización?"
      ]
    },
    {
      "cell_type": "markdown",
      "metadata": {
        "id": "hBalWLM7j1_d"
      },
      "source": [
        "Respuesta"
      ]
    },
    {
      "cell_type": "code",
      "metadata": {
        "id": "pDA-rg3Gj5Lz"
      },
      "source": [
        "# 1) La función objetivo es obtener el mejor plan con el menor número posible de desplazamientos diario de actores,\n",
        "#    dado que el actor cobra por día trasladado indiferente a las tomas que realice, es decir al menor coste posible .\n",
        "# 2) Es un problema de minimización porque la función objetivo tiene como meta minimizar el coste total del plan"
      ],
      "execution_count": null,
      "outputs": []
    },
    {
      "cell_type": "markdown",
      "metadata": {
        "id": "rlnTYgY1j6I2"
      },
      "source": [
        "Diseña un algoritmo para resolver el problema por fuerza bruta"
      ]
    },
    {
      "cell_type": "markdown",
      "metadata": {
        "id": "70rDgxYXkC8r"
      },
      "source": [
        "Respuesta"
      ]
    },
    {
      "cell_type": "code",
      "metadata": {
        "id": "CJb5sQ0qkENy"
      },
      "source": [
        "import random\n",
        "import numpy as np\n",
        "import pandas as pd"
      ],
      "execution_count": null,
      "outputs": []
    },
    {
      "cell_type": "code",
      "source": [
        "# Función objetivo: calcular el costo total de la asignacion de actores a un grupo de seis tomas\n",
        "\n",
        "def calcular_costo(planificacion, costo_desplazamiento, num_actores, num_tomas):\n",
        "    costo_total = 0\n",
        "    acum_6_planif = np.zeros((num_actores), dtype=int)\n",
        "\n",
        "#   identifica y acumula el numero de actores para el grupo de seis tomas\n",
        "    i = 0\n",
        "    for j in range(0,num_tomas):\n",
        "        for k in range(0,num_actores):\n",
        "            if i > 0:\n",
        "                acum_6_planif[k] += planificacion[j-1,k].copy()\n",
        "                if acum_6_planif[k] > 1:\n",
        "                    acum_6_planif[k] = 1\n",
        "            if i == 5:\n",
        "                acum_6_planif[k] += planificacion[j,k].copy()\n",
        "                if acum_6_planif[k] > 1:\n",
        "                    acum_6_planif[k] = 1\n",
        "\n",
        "        i += 1\n",
        "\n",
        "#       Calcula el coste del numero de actores de seis tomas\n",
        "        if i> 5:\n",
        "            actores_6tomas = 0\n",
        "            for k in range(0,num_actores):\n",
        "                actores_6tomas += acum_6_planif[k]\n",
        "            costo_total += (actores_6tomas * costo_desplazamiento)\n",
        "            i = 0\n",
        "            acum_6_planif = np.zeros((num_actores), dtype=int)\n",
        "\n",
        "    return costo_total"
      ],
      "metadata": {
        "id": "03nWLrsdzYfH"
      },
      "execution_count": null,
      "outputs": []
    },
    {
      "cell_type": "code",
      "source": [
        "# Generación iterativa de varios planes de asignación de actores\n",
        "\n",
        "def generar_plan_heuristica(matriz_actores, num_tomas, num_actores, costo_desplazamiento, num_iteraciones):\n",
        "    mejor_planificacion = None\n",
        "    mejor_costo = float('inf')\n",
        "\n",
        "    # Generar una planificación aleatoria inicial\n",
        "    for _ in range(num_iteraciones):\n",
        "        planificacion = []\n",
        "        tomas_disponibles = list(range(num_tomas))\n",
        "        random.shuffle(tomas_disponibles)\n",
        "\n",
        "        while len(tomas_disponibles) > 0:\n",
        "            grupo = []\n",
        "            for _ in range(min(6, len(tomas_disponibles))):\n",
        "                toma = tomas_disponibles.pop()\n",
        "                grupo.append(matriz_actores[toma])\n",
        "            planificacion.append(grupo)\n",
        "        planif_arreglo = np.array(planificacion).reshape(num_tomas, num_actores)\n",
        "\n",
        "        # Calcular el costo de la planificación inicial\n",
        "        costo_actual = calcular_costo(planif_arreglo, costo_desplazamiento, num_actores, num_tomas)\n",
        "\n",
        "        # Si el costo del nuevo plan es menor, actualizar la planificación\n",
        "        if costo_actual < mejor_costo:\n",
        "            mejor_planificacion = planif_arreglo.copy()\n",
        "            mejor_costo = costo_actual\n",
        "\n",
        "\n",
        "    # Búsqueda local: intentar mejorar la planificación inicial\n",
        "        nueva_planif = mejor_planificacion.copy()\n",
        "\n",
        "        for j in range(0,num_tomas):\n",
        "            for k in range(j+1,num_tomas):\n",
        "                # Intercambiar la toma actual por la toma previa de la lista de tomas\n",
        "                nuevo_grupo1 = nueva_planif[j,:].copy()\n",
        "                nuevo_grupo2 = nueva_planif[k,:].copy()\n",
        "                nueva_planif[k,:] = nuevo_grupo1.copy()\n",
        "                nueva_planif[j,:] = nuevo_grupo2.copy()\n",
        "\n",
        "                # Calcular el costo del nuevo plan\n",
        "                nuevo_costo = calcular_costo(nueva_planif, costo_desplazamiento, num_actores, num_tomas)\n",
        "\n",
        "                # Si el costo del nuevo plan es menor, actualizar la planificación\n",
        "                if nuevo_costo < mejor_costo:\n",
        "                    mejor_planificacion = nueva_planif.copy()\n",
        "                    mejor_costo = nuevo_costo\n",
        "\n",
        "    return mejor_planificacion, mejor_costo"
      ],
      "metadata": {
        "id": "7bZPjTjtzYrb"
      },
      "execution_count": null,
      "outputs": []
    },
    {
      "cell_type": "code",
      "source": [
        "# Datos de entrada\n",
        "num_iteraciones = 100\n",
        "limite_tomas_dia = 6\n",
        "num_actores = 10\n",
        "num_tomas = 30\n",
        "costo_desplazamiento = 1\n",
        "matriz_actores = np.array([[1, 1, 1, 1, 1, 0, 0, 0, 0, 0],\n",
        "                           [0, 0, 1, 1, 1, 0, 0, 0, 0, 0],\n",
        "                           [0, 1, 0, 0, 1, 0, 1, 0, 0, 0],\n",
        "                           [1, 1, 0, 0, 0, 0, 1, 1, 0, 0],\n",
        "                           [0, 1, 0, 1, 0, 0, 0, 1, 0, 0],\n",
        "                           [1, 1, 0, 1, 1, 0, 0, 0, 0, 0],\n",
        "                           [1, 1, 0, 1, 1, 0, 0, 0, 0, 0],\n",
        "                           [1, 1, 0, 0, 0, 1, 0, 0, 0, 0],\n",
        "                           [1, 1, 0, 1, 0, 0, 0, 0, 0, 0],\n",
        "                           [1, 1, 0, 0, 0, 1, 0, 0, 1, 0],\n",
        "                           [1, 1, 1, 0, 1, 0, 0, 1, 0, 0],\n",
        "                           [1, 1, 1, 1, 0, 1, 0, 0, 0, 0],\n",
        "                           [1, 0, 0, 1, 1, 0, 0, 0, 0, 0],\n",
        "                           [1, 0, 1, 0, 0, 1, 0, 0, 0, 0],\n",
        "                           [1, 1, 0, 0, 0, 0, 1, 0, 0, 0],\n",
        "                           [0, 0, 0, 1, 0, 0, 0, 0, 0, 1],\n",
        "                           [1, 0, 1, 0, 0, 0, 0, 0, 0, 0],\n",
        "                           [0, 0, 1, 0, 0, 1, 0, 0, 0, 0],\n",
        "                           [1, 0, 1, 0, 0, 0, 0, 0, 0, 0],\n",
        "                           [1, 0, 1, 1, 1, 0, 0, 0, 0, 0],\n",
        "                           [0, 0, 0, 0, 0, 1, 0, 1, 0, 0],\n",
        "                           [1, 1, 1, 1, 0, 0, 0, 0, 0, 0],\n",
        "                           [1, 0, 1, 0, 0, 0, 0, 0, 0, 0],\n",
        "                           [0, 0, 1, 0, 0, 1, 0, 0, 0, 0],\n",
        "                           [1, 1, 0, 1, 0, 0, 0, 0, 0, 1],\n",
        "                           [1, 0, 1, 0, 1, 0, 0, 0, 1, 0],\n",
        "                           [0, 0, 0, 1, 1, 0, 0, 0, 0, 0],\n",
        "                           [1, 0, 0, 1, 0, 0, 0, 0, 0, 0],\n",
        "                           [1, 0, 0, 0, 1, 1, 0, 0, 0, 0],\n",
        "                           [1, 0, 0, 1, 0, 0, 0, 0, 0, 0]])\n",
        "\n",
        "# Generar planificación heurística\n",
        "plan_optimo, costo_total_optimo = generar_plan_heuristica(matriz_actores, num_tomas, num_actores, costo_desplazamiento, num_iteraciones)\n",
        "\n",
        "# Presentar la mejor tabla de planificación de grupo de actores por toma y por día. Se incluye el más óptimo costo.\n",
        "dia = 1\n",
        "for i, grupo in enumerate(plan_optimo):\n",
        "    if (round(i//limite_tomas_dia))>=1:\n",
        "        dia = round(i//limite_tomas_dia) + 1\n",
        "    print(\"Toma:\", i+1, \"Dia:\", dia, \"Grupo de actores:\", grupo)\n",
        "print(\"Costo total óptimo:\", costo_total_optimo)"
      ],
      "metadata": {
        "id": "JzdhcT24zYz3"
      },
      "execution_count": null,
      "outputs": []
    },
    {
      "cell_type": "markdown",
      "metadata": {
        "id": "tgrnsC2nkFa8"
      },
      "source": [
        "Calcula la complejidad del algoritmo por fuerza bruta"
      ]
    },
    {
      "cell_type": "markdown",
      "metadata": {
        "id": "9eUd3xwckP68"
      },
      "source": [
        "Respuesta"
      ]
    },
    {
      "cell_type": "code",
      "metadata": {
        "id": "rvZWwL-ckRST"
      },
      "source": [],
      "execution_count": null,
      "outputs": []
    },
    {
      "cell_type": "markdown",
      "metadata": {
        "id": "txbrmLmskReM"
      },
      "source": [
        "(*)Diseña un algoritmo que mejore la complejidad del algortimo por fuerza bruta. Argumenta porque crees que mejora el algoritmo por fuerza bruta"
      ]
    },
    {
      "cell_type": "markdown",
      "metadata": {
        "id": "hLrVwt5QkZPD"
      },
      "source": [
        "Respuesta"
      ]
    },
    {
      "cell_type": "code",
      "metadata": {
        "id": "m1eyM21Vkabg"
      },
      "source": [],
      "execution_count": null,
      "outputs": []
    },
    {
      "cell_type": "markdown",
      "source": [
        "El código descrito como respuesta de la pregunta \"Diseña un algoritmo para resolver el problema por fuerza bruta\" tiene dos algoritmos:\n",
        "\n",
        "1) Algoritmo de busqueda aleatoria. Que corresponde como respuesta a la pregunta \"Diseña un algoritmo para RESOLVER por fuerza bruta\"\n",
        "\n",
        "2) Algoritmo de busqueda local. Este algoritmo responde a esta pregunta \"Diseña un algoritmo que MEJORE la complejidad del algortimo por fuerza bruta\". En este algortimo generaba de manera iterativa combiando un plan por busqueda aleatoria para luego revisar toda la lista por busqueda local.\n",
        "\n",
        "EL resultado me permitio mejorar los valores obtenidos en la busqueda aleatoria\n",
        "Esta es la razon por que los dos algoritmos estan unidos en un solo codigo. Entiendo tambien que otra opcion era haber generado en dos funciones\n",
        "\n"
      ],
      "metadata": {
        "id": "MO3LHBbaWBqw"
      }
    },
    {
      "cell_type": "code",
      "source": [],
      "metadata": {
        "id": "vqDsp4NXWOu1"
      },
      "execution_count": null,
      "outputs": []
    },
    {
      "cell_type": "markdown",
      "metadata": {
        "id": "eGDB4K6uk1iN"
      },
      "source": [
        "(*)Calcula la complejidad del algoritmo"
      ]
    },
    {
      "cell_type": "markdown",
      "metadata": {
        "id": "NhpTh_BPk1ms"
      },
      "source": [
        "Respuesta"
      ]
    },
    {
      "cell_type": "code",
      "metadata": {
        "id": "nREzhkStlCq8"
      },
      "source": [],
      "execution_count": null,
      "outputs": []
    },
    {
      "cell_type": "markdown",
      "source": [
        "DATOS DE PARTIDA\n",
        "n = número de tomas = 30\n",
        "m = número de actores = 10\n",
        "L = número de iteraciones = 250\n",
        "Supuesto: operaciones numpy de array, asignación, reshape, random y zeros son considerados como una operación elemental\n",
        "\n",
        "CALCULOS\n",
        "\n",
        "a) Función calcular costo\n",
        "\n",
        "2 operaciones elementales\n",
        "\n",
        "n *(m * 4) operaciones elementales\n",
        "\n",
        "(n/5)* (m operaciones elementales)\n",
        "\n",
        "Total = 2 + (n * m * 4) + ((n/5) * m) = 2 + (21 * m * n)/5\n",
        "\n",
        "Total redondeado = (21 * m * n)/5\n",
        "\n",
        "\n",
        "b) Generacion del plan aleatorio inicial\n",
        "\n",
        "7 asignaciones\n",
        "\n",
        "n *((n/5) * 2) asignaciones o condicionales\n",
        "\n",
        "Función calcular costo = (21 * m * n)/5\n",
        "\n",
        "Total = 7 + 2 (n( n/5)) + (21 * m * n)/5 = 2 (n( n/5)) + (21 * m * n)/5 Omitimos el 7\n",
        "\n",
        "\n",
        "c) Generacion del plan por búsqueda local\n",
        "\n",
        "1 asignación\n",
        "\n",
        "n ((n-1)(4 + Función calcular costo))\n",
        "\n",
        "Total = 1 + n ((n-1)(4 + (21 * mn)/5)) = (20n^2 + 21nn^3 – 20n – 21m*n^2)/5 Omitimos el 1\n",
        "\n",
        "\n",
        ".\n",
        "\n",
        "\n",
        "ALGORITMO PRINCIPAL: Generacion total del plan heurístico –\n",
        "\n",
        "2 asignaciones\n",
        "\n",
        "L * (Generación del plan aleatorio inicial + Generación del plan por búsqueda local)\n",
        "\n",
        "Total = L * (((22n^2) + (21mn^3) - (21mn^2) + (42 *mn) – (20*n))/5)\n",
        "\n",
        "Total = 250 * (((2230^2) + (213010^3) - (213010^2) + (42 *3010) – (20*10))/5)\n",
        "\n",
        "281’960,000 de OPERACIONES ELEMENTALES"
      ],
      "metadata": {
        "id": "KO2qX3qoVw7S"
      }
    },
    {
      "cell_type": "markdown",
      "metadata": {
        "id": "3M6QjTsSkmYe"
      },
      "source": [
        "Según el problema (y tenga sentido), diseña un juego de datos de entrada aleatorios"
      ]
    },
    {
      "cell_type": "markdown",
      "metadata": {
        "id": "Jc3_OlyNkvjZ"
      },
      "source": [
        "Respuesta"
      ]
    },
    {
      "cell_type": "code",
      "metadata": {
        "id": "sJ-N2etjkyWc"
      },
      "source": [],
      "execution_count": null,
      "outputs": []
    },
    {
      "cell_type": "markdown",
      "metadata": {
        "id": "zy5ZROmjlGo1"
      },
      "source": [
        "Aplica el algoritmo al juego de datos generado"
      ]
    },
    {
      "cell_type": "markdown",
      "metadata": {
        "id": "_Cmj-PVylMsa"
      },
      "source": [
        "Respuesta"
      ]
    },
    {
      "cell_type": "code",
      "metadata": {
        "id": "Jkx8GeiYlUz1"
      },
      "source": [],
      "execution_count": null,
      "outputs": []
    },
    {
      "cell_type": "markdown",
      "metadata": {
        "id": "eTFWUJQrtGcv"
      },
      "source": [
        "Enumera las referencias que has utilizado(si ha sido necesario) para llevar a cabo el trabajo"
      ]
    },
    {
      "cell_type": "markdown",
      "metadata": {
        "id": "YKQ_mRBttWsP"
      },
      "source": [
        "Respuesta"
      ]
    },
    {
      "cell_type": "markdown",
      "metadata": {
        "id": "kAkDPUyRtYyH"
      },
      "source": [
        "Describe brevemente las lineas de como crees que es posible avanzar en el estudio del problema. Ten en cuenta incluso posibles variaciones del problema y/o variaciones al alza del tamaño"
      ]
    },
    {
      "cell_type": "markdown",
      "metadata": {
        "id": "IE0uZmo-tZu-"
      },
      "source": [
        "Respuesta"
      ]
    }
  ]
}